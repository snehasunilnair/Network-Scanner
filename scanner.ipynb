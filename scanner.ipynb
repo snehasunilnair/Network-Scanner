{
 "cells": [
  {
   "cell_type": "code",
   "execution_count": null,
   "id": "679046f8",
   "metadata": {},
   "outputs": [],
   "source": [
    "#importing modules\n",
    "import scapy.all as scapy\n",
    "import argparse\n",
    "\n",
    "#functions\n",
    "def get_arguments():\n",
    "    parser = argparse.ArgumentParser()\n",
    "    parser.add_argument(\"-t\", \"--target\", dest=\"target\", help=\"Target network to scan\")\n",
    "    options = parser.parse_args()\n",
    "    if not options.target:\n",
    "        parser.error(\"[-] Please specify a target network, use --help for more info.\")\n",
    "    return options\n",
    "\n",
    "\n",
    "def scan(ip):\n",
    "    arp_request = scapy.ARP(pdst=ip)\n",
    "    broadcast = scapy.Ether(dst=\"ff:ff:ff:ff:ff:ff\")\n",
    "    arp_request_broadcast = broadcast/arp_request\n",
    "    answered_list, unanswered_list = scapy.srp(arp_request_broadcast, timeout=1, verbose=False)\n",
    "\n",
    "    clients_list = []\n",
    "    for element in answered_list:\n",
    "        client_dict = {\"ip\": element[1].psrc, \"mac\": element[1].hwsrc}\n",
    "        clients_list.append(client_dict)\n",
    "    return clients_list\n",
    "\n",
    "\n",
    "def print_result(results_list):\n",
    "    print(\"MAC Address\")\n",
    "    for client in results_list:\n",
    "        print(client[\"ip\"] + \"\\t\\t\" + client[\"mac\"])\n",
    "\n",
    "\n",
    "options = get_arguments()\n",
    "scan_result = scan(options.target)\n",
    "print_result(scan_result)"
   ]
  },
  {
   "cell_type": "code",
   "execution_count": null,
   "id": "d1071011",
   "metadata": {},
   "outputs": [],
   "source": []
  }
 ],
 "metadata": {
  "kernelspec": {
   "display_name": "Python 3",
   "language": "python",
   "name": "python3"
  },
  "language_info": {
   "codemirror_mode": {
    "name": "ipython",
    "version": 3
   },
   "file_extension": ".py",
   "mimetype": "text/x-python",
   "name": "python",
   "nbconvert_exporter": "python",
   "pygments_lexer": "ipython3",
   "version": "3.8.8"
  }
 },
 "nbformat": 4,
 "nbformat_minor": 5
}
